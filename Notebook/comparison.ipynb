{
 "cells": [
  {
   "cell_type": "code",
   "execution_count": 2,
   "metadata": {},
   "outputs": [],
   "source": [
    "import os\n",
    "import sys\n",
    "from jax import numpy as jnp\n",
    "\n",
    "# Navigate to the parent directory of the project structure\n",
    "project_dir = os.path.abspath(os.path.join(os.getcwd(), '..'))\n",
    "src_dir = os.path.join(project_dir, 'src')\n",
    "fig_dir = os.path.join(project_dir, 'fig')\n",
    "data_dir = os.path.join(project_dir, 'data')\n",
    "log_dir = os.path.join(project_dir, 'log')\n",
    "os.makedirs(fig_dir, exist_ok=True)\n",
    "\n",
    "# Add the src directory to sys.path\n",
    "sys.path.append(src_dir)\n",
    "import matplotlib.pyplot as plt\n",
    "import numpy as np\n",
    "\n",
    "from analysis.matrix_factorization import optimize_factorization_grad_descent"
   ]
  },
  {
   "cell_type": "code",
   "execution_count": 3,
   "metadata": {},
   "outputs": [
    {
     "name": "stderr",
     "output_type": "stream",
     "text": [
      "No GPU/TPU found, falling back to CPU. (Set TF_CPP_MIN_LOG_LEVEL=0 and rerun for more info.)\n"
     ]
    },
    {
     "name": "stdout",
     "output_type": "stream",
     "text": [
      "Time in loop: [0.0, 0.03360319137573242, 0.04776644706726074, 0.061273813247680664, 0.07586026191711426, 0.08989572525024414, 0.10345721244812012, 0.11693072319030762, 0.13034534454345703, 0.14488673210144043, 0.15816116333007812, 0.17159581184387207, 0.31104421615600586, 0.32426953315734863, 0.3378021717071533, 0.35158395767211914, 0.3655986785888672, 0.37889957427978516, 0.39228177070617676, 0.4055907726287842, 0.4191255569458008, 0.43570899963378906, 0.44914889335632324, 0.5095736980438232, 0.6441648006439209, 0.6577680110931396, 0.6710846424102783, 0.6843256950378418, 0.6976234912872314, 0.7137095928192139, 0.7298345565795898, 0.7429440021514893, 0.7596156597137451, 0.7730460166931152, 0.786278247833252, 0.7994358539581299, 0.8127493858337402, 0.8261153697967529, 0.8393106460571289, 0.8524930477142334, 0.8657991886138916, 0.8792054653167725, 0.8922207355499268, 0.9054172039031982, 0.9186356067657471, 0.9317982196807861, 0.9450676441192627, 0.9582414627075195, 0.9714047908782959, 0.9874372482299805, 1.0005555152893066, 1.0166265964508057, 1.029871940612793, 1.045870304107666, 1.05902099609375, 1.0750641822814941, 1.088151454925537, 1.104473352432251, 1.1167938709259033, 1.1318473815917969, 1.144240140914917, 1.1588490009307861, 1.1714096069335938, 1.1856517791748047, 1.197786569595337, 1.418806791305542, 1.4325406551361084, 1.4498448371887207, 1.4638400077819824, 1.4794514179229736, 1.4917678833007812, 1.5065491199493408, 1.5194575786590576, 1.5348494052886963, 1.5472736358642578, 1.5624756813049316, 1.574815034866333, 1.5904896259307861, 1.6027884483337402, 1.6178686618804932, 1.6301558017730713, 1.6449894905090332, 1.6578779220581055, 1.6709527969360352, 1.684377908706665, 1.697087049484253, 1.7097265720367432, 1.7228457927703857, 1.7355821132659912, 1.7487928867340088, 1.7622005939483643, 1.7753660678863525, 1.7881817817687988, 1.800847053527832, 1.814035177230835, 1.8271830081939697, 1.8401951789855957, 1.8532521724700928, 1.8659393787384033, 1.879523754119873]\n",
      "[[1.         0.82342968 0.79046125 ... 0.0068329  0.00455158 0.00227372]\n",
      " [0.82342968 1.         0.81142944 ... 0.00679745 0.00452663 0.00226022]\n",
      " [0.79046125 0.81142944 1.         ... 0.00677246 0.00450926 0.00225104]\n",
      " ...\n",
      " [0.0068329  0.00679745 0.00677246 ... 1.         0.42517039 0.1849818 ]\n",
      " [0.00455158 0.00452663 0.00450926 ... 0.42517039 1.         0.325569  ]\n",
      " [0.00227372 0.00226022 0.00225104 ... 0.1849818  0.325569   1.        ]]\n",
      "[Array(8256., dtype=float64), Array(2104.27898517, dtype=float64), Array(1463.20285549, dtype=float64), Array(1342.11620743, dtype=float64), Array(898.68442588, dtype=float64), Array(854.2611167, dtype=float64), Array(845.62003445, dtype=float64), Array(836.9059374, dtype=float64), Array(829.75063811, dtype=float64), Array(823.42569101, dtype=float64), Array(817.63257377, dtype=float64), Array(772.81886588, dtype=float64), Array(769.88399766, dtype=float64), Array(766.58666863, dtype=float64), Array(751.34849153, dtype=float64), Array(745.69758548, dtype=float64), Array(743.87093445, dtype=float64), Array(741.54531554, dtype=float64), Array(739.79355655, dtype=float64), Array(729.77809885, dtype=float64), Array(732.98700254, dtype=float64), Array(732.75470826, dtype=float64), Array(729.96054992, dtype=float64), Array(726.50141681, dtype=float64), Array(724.52076941, dtype=float64), Array(723.14115161, dtype=float64), Array(722.01326771, dtype=float64), Array(721.04935302, dtype=float64), Array(717.76510309, dtype=float64), Array(713.92043327, dtype=float64), Array(713.03204186, dtype=float64), Array(712.39761558, dtype=float64), Array(710.95644731, dtype=float64), Array(707.74563308, dtype=float64), Array(706.93471389, dtype=float64), Array(706.32374253, dtype=float64), Array(704.79689553, dtype=float64), Array(710.26297197, dtype=float64), Array(705.50123981, dtype=float64), Array(702.66799677, dtype=float64), Array(701.7733758, dtype=float64), Array(701.28171963, dtype=float64), Array(700.9265133, dtype=float64), Array(698.9218984, dtype=float64), Array(698.36420357, dtype=float64), Array(697.80245687, dtype=float64), Array(697.54844471, dtype=float64), Array(697.30150078, dtype=float64), Array(697.08893183, dtype=float64), Array(696.86422506, dtype=float64), Array(696.65945896, dtype=float64), Array(696.44814742, dtype=float64), Array(696.25088281, dtype=float64), Array(696.05008644, dtype=float64), Array(695.86011613, dtype=float64), Array(695.66826187, dtype=float64), Array(695.48532825, dtype=float64), Array(695.30143273, dtype=float64), Array(695.12526672, dtype=float64), Array(694.94864397, dtype=float64), Array(694.77898377, dtype=float64), Array(694.60911191, dtype=float64), Array(694.44571142, dtype=float64), Array(694.28216622, dtype=float64), Array(694.12479964, dtype=float64), Array(693.96721877, dtype=float64), Array(693.81568406, dtype=float64), Array(693.66374636, dtype=float64), Array(693.51786896, dtype=float64), Array(693.37128107, dtype=float64), Array(693.23091864, dtype=float64), Array(693.08940518, dtype=float64), Array(692.95445389, dtype=float64), Array(692.81774879, dtype=float64), Array(692.68815172, dtype=float64), Array(692.55598904, dtype=float64), Array(692.4317471, dtype=float64), Array(692.30384972, dtype=float64), Array(692.18503518, dtype=float64), Array(692.06109986, dtype=float64), Array(691.94787182, dtype=float64), Array(691.82754905, dtype=float64), Array(691.72016907, dtype=float64), Array(691.60303679, dtype=float64), Array(691.50188011, dtype=float64), Array(691.38741202, dtype=float64), Array(691.29296712, dtype=float64), Array(691.18050008, dtype=float64), Array(691.09334568, dtype=float64), Array(690.98205682, dtype=float64), Array(690.90280545, dtype=float64), Array(690.79171673, dtype=float64), Array(690.72092023, dtype=float64), Array(690.60895157, dtype=float64), Array(690.54698115, dtype=float64), Array(690.43306445, dtype=float64), Array(690.38000101, dtype=float64), Array(690.26324101, dtype=float64), Array(690.21882562, dtype=float64), Array(690.09865831, dtype=float64)]\n",
      "0.1579340745210084\n"
     ]
    }
   ],
   "source": [
    "s_matrix = jnp.tril(jnp.ones(shape=(128, 128)))\n",
    "opt, losses, time_in_loop = optimize_factorization_grad_descent(s_matrix, 100, jnp.eye(s_matrix.shape[0]), lr=1.)\n",
    "\n",
    "print(f'Time in loop: {time_in_loop}')\n",
    "print(opt)\n",
    "print(losses)\n",
    "print(jnp.min(jnp.linalg.eigh(opt)[0]))"
   ]
  },
  {
   "cell_type": "code",
   "execution_count": 4,
   "metadata": {},
   "outputs": [
    {
     "data": {
      "text/plain": [
       "(128, 128)"
      ]
     },
     "execution_count": 4,
     "metadata": {},
     "output_type": "execute_result"
    }
   ],
   "source": [
    "opt.shape"
   ]
  }
 ],
 "metadata": {
  "kernelspec": {
   "display_name": "Python (dp-matfac-env)",
   "language": "python",
   "name": "dp-matfac-env"
  },
  "language_info": {
   "codemirror_mode": {
    "name": "ipython",
    "version": 3
   },
   "file_extension": ".py",
   "mimetype": "text/x-python",
   "name": "python",
   "nbconvert_exporter": "python",
   "pygments_lexer": "ipython3",
   "version": "3.8.5"
  }
 },
 "nbformat": 4,
 "nbformat_minor": 2
}
